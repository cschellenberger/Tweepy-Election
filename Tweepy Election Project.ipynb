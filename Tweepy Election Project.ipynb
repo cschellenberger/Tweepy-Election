{
 "cells": [
  {
   "cell_type": "code",
   "execution_count": 1,
   "metadata": {},
   "outputs": [],
   "source": [
    "# Import package\n",
    "import tweepy\n",
    "import json\n",
    "\n",
    "%run keys_tokens.py\n",
    "\n",
    "# Pass OAuth details to tweepy's OAuth handler\n",
    "auth = tweepy.OAuthHandler(consumer_key, consumer_secret)\n",
    "auth.set_access_token(access_token, access_token_secret)"
   ]
  },
  {
   "cell_type": "code",
   "execution_count": 2,
   "metadata": {},
   "outputs": [],
   "source": [
    "# Generate a listener class\n",
    "class MyStreamListener(tweepy.StreamListener):\n",
    "    def __init__(self, api=None):\n",
    "        super(MyStreamListener, self).__init__()\n",
    "        self.num_tweets = 0\n",
    "        self.file = open(\"tweets.txt\", \"w\")\n",
    "\n",
    "    def on_status(self, status):\n",
    "        tweet = status._json\n",
    "        self.file.write( json.dumps(tweet) + '\\n' )\n",
    "        self.num_tweets += 1\n",
    "        if self.num_tweets < 100:\n",
    "            return True\n",
    "        else:\n",
    "            return False\n",
    "        self.file.close()\n",
    "\n",
    "    def on_error(self, status):\n",
    "        print(status)"
   ]
  },
  {
   "cell_type": "code",
   "execution_count": 3,
   "metadata": {},
   "outputs": [],
   "source": [
    "# Initialize Stream listener\n",
    "l = MyStreamListener()\n",
    "\n",
    "# Create your Stream object with authentication\n",
    "stream = tweepy.Stream(auth, l)\n",
    "\n",
    "# Filter Twitter Streams to capture data by the keywords:\n",
    "stream.filter(track=['Jason Kenney', 'Rachel Notley', 'Stephen Mandel', r'@jkenney', r'@RachelNotley', r'@SMandel_AB'], languages=['en'])"
   ]
  },
  {
   "cell_type": "code",
   "execution_count": 4,
   "metadata": {},
   "outputs": [
    {
     "name": "stdout",
     "output_type": "stream",
     "text": [
      "dict_keys(['created_at', 'id', 'id_str', 'text', 'source', 'truncated', 'in_reply_to_status_id', 'in_reply_to_status_id_str', 'in_reply_to_user_id', 'in_reply_to_user_id_str', 'in_reply_to_screen_name', 'user', 'geo', 'coordinates', 'place', 'contributors', 'retweeted_status', 'quoted_status_id', 'quoted_status_id_str', 'quoted_status', 'quoted_status_permalink', 'is_quote_status', 'quote_count', 'reply_count', 'retweet_count', 'favorite_count', 'entities', 'favorited', 'retweeted', 'possibly_sensitive', 'filter_level', 'lang', 'timestamp_ms'])\n"
     ]
    }
   ],
   "source": [
    "# String of path to file: tweets_data_path\n",
    "tweets_data_path = 'tweets.txt'\n",
    "\n",
    "# Initialize empty list to store tweets: tweets_data\n",
    "tweets_data = []\n",
    "\n",
    "# Open connection to file\n",
    "tweets_file = open(tweets_data_path, \"r\")\n",
    "\n",
    "# Read in tweets and store in list: tweets_data\n",
    "for line in tweets_file:\n",
    "    tweet = json.loads(line)\n",
    "    tweets_data.append(tweet)\n",
    "\n",
    "# Close connection to file\n",
    "tweets_file.close()\n",
    "\n",
    "# Print the keys of the first tweet dict\n",
    "print(tweets_data[0].keys())"
   ]
  },
  {
   "cell_type": "code",
   "execution_count": 5,
   "metadata": {},
   "outputs": [
    {
     "name": "stdout",
     "output_type": "stream",
     "text": [
      "                                                text lang\n",
      "0  RT @abraaten: But, the CBC said @jkenney would...   en\n",
      "1  RT @True_Canuck1: I guess Quebec is not into A...   en\n",
      "2  @jkenney Bluster! Loud noises! Don't look behi...   en\n",
      "3  @btg456 @politicalham @akaRCN @RachelNotley @j...   en\n",
      "4  @GNadeauDubois @jkenney Now let's adopt a poli...   en\n"
     ]
    }
   ],
   "source": [
    "# Import package\n",
    "import pandas as pd\n",
    "\n",
    "# Build DataFrame of tweet texts and languages\n",
    "df = pd.DataFrame(tweets_data, columns=['text', 'lang'])\n",
    "\n",
    "# Print head of DataFrame\n",
    "print(df.head())"
   ]
  },
  {
   "cell_type": "code",
   "execution_count": 6,
   "metadata": {},
   "outputs": [],
   "source": [
    "import re\n",
    "\n",
    "def word_in_text(word, text):\n",
    "    word = word.lower()\n",
    "    text = text.lower()\n",
    "    match = re.search(word, text)\n",
    "\n",
    "    if match:\n",
    "        return True\n",
    "    return False"
   ]
  },
  {
   "cell_type": "code",
   "execution_count": 7,
   "metadata": {},
   "outputs": [],
   "source": [
    "# Initialize list to store tweet counts\n",
    "[Rachel_Notley, Stephen_Mandel, Jason_Kenney] = [0, 0, 0]\n",
    "\n",
    "# Iterate through df, counting the number of tweets in which\n",
    "# each candidate is mentioned\n",
    "for index, row in df.iterrows():\n",
    "    Rachel_Notley += word_in_text('Rachel Notley', row['text'])\n",
    "    Jason_Kenney += word_in_text('Jason Kenney', row['text'])\n",
    "    Stephen_Mandel += word_in_text('Stephen Mandel', row['text'])\n",
    "    Rachel_Notley += word_in_text(r'@RachelNotley', row['text'])\n",
    "    Jason_Kenney += word_in_text(r'@jkenney', row['text'])\n",
    "    Stephen_Mandel += word_in_text(r'@SMandel_AB', row['text'])"
   ]
  },
  {
   "cell_type": "code",
   "execution_count": 8,
   "metadata": {},
   "outputs": [
    {
     "data": {
      "image/png": "[encoded data removed]",
      "text/plain": [
       "<Figure size 432x288 with 1 Axes>"
      ]
     },
     "metadata": {},
     "output_type": "display_data"
    }
   ],
   "source": [
    "# Import packages\n",
    "%matplotlib inline\n",
    "import matplotlib.pyplot as plt\n",
    "import seaborn as sns\n",
    "\n",
    "\n",
    "# Set seaborn style\n",
    "sns.set(color_codes=True)\n",
    "\n",
    "# Create a list of labels:cd\n",
    "cd = ['Jason Kenney', 'Rachel Notley', 'Stephen Mandel']\n",
    "\n",
    "# Plot histogram\n",
    "ax = sns.barplot(cd, [Jason_Kenney, Rachel_Notley, Stephen_Mandel])\n",
    "ax.set(ylabel=\"count\")\n",
    "plt.show()"
   ]
  },
  {
   "cell_type": "code",
   "execution_count": 9,
   "metadata": {},
   "outputs": [],
   "source": [
    "english = df[df['lang'] == 'en']"
   ]
  },
  {
   "cell_type": "code",
   "execution_count": 10,
   "metadata": {},
   "outputs": [],
   "source": [
    "english_text = []\n",
    "\n",
    "for tweet in english['text']:\n",
    "    english_text.append(tweet)"
   ]
  },
  {
   "cell_type": "code",
   "execution_count": 11,
   "metadata": {},
   "outputs": [
    {
     "data": {
      "text/plain": [
       "['RT @abraaten: But, the CBC said @jkenney would scare investment dollars away. /s https://t.co/HeXD2HYdBg',\n",
       " \"RT @True_Canuck1: I guess Quebec is not into Alberta's money either, huh? https://t.co/3dVC6HSJHa\",\n",
       " \"@jkenney Bluster! Loud noises! Don't look behind that curtain!\",\n",
       " \"@btg456 @politicalham @akaRCN @RachelNotley @jkenney Maybe Kenney can't throw a tantrum until he gets sworn in, on April 30, I believe.\",\n",
       " \"@GNadeauDubois @jkenney Now let's adopt a policy that you don't get one damn dime from Alberta from this point on.\",\n",
       " '@PremierScottMoe @jkenney Seriously do you have mush for brains! Educate yourself on how equalization works, better… https://t.co/JQiy2ZBrSS',\n",
       " 'RT @roaddogger: @ghost1144 @PointBreakout @HangryMale @moneyaftergrad Just wait Alberta, u ain’t seen nothing yet😳https://t.co/gtRfqPxYKI',\n",
       " 'RT @humourme1234: @ThatsMrNeil I considered this tweet more and endorse it.\\n\\nSeems to me the Midwest is a foregone conclusion for Libs. Pit…',\n",
       " 'RT @HarshaWalia: I have recieved 320 nasty, racist, misogynist messages since I tweeted this real pic from a few years ago. The msgs dont d…',\n",
       " 'RT @Lidsville: I still can\\'t get past this. @CTVNews calling Kenney &amp; his party \"centre-right\" when he\\'s a far-right social conservative or…',\n",
       " 'RT @humourme1234: @ThatsMrNeil I considered this tweet more and endorse it.\\n\\nSeems to me the Midwest is a foregone conclusion for Libs. Pit…',\n",
       " 'RT @OtagoGrad: Rex Murphy: \\n\\n\"Alberta \\'will no longer be passive\\' in the face of the calumnies remorselessly hurled at the province’s indus…',\n",
       " 'RT @rodegan: Looks like Rachel Notley has her staff pic for her new job.😂 https://t.co/0Bymx22jKF',\n",
       " '@TonyDiBattista3 @fordnation @jkenney @AndrewScheer Why are you so against left wing policies?',\n",
       " \"RT @jonkay: reading this makes you realize there's a big swathe of Cdn pundit/twitter class that's actively rooting for things to get apoca…\",\n",
       " 'RT @Tzeporah: Dear @jkenney do you think it’s fair that if the oilsands are allowed to continue to expand by 2030 they will be almost 40% o…',\n",
       " \"RT @TrevorKearnes: There's no social acceptability for sending $$billions to Quebec in that case. https://t.co/yVrLU45KI5\",\n",
       " 'RT @SuitsAndBootsCA: \"There\\'s no social acceptability for an additional #oil #pipeline\"\\n- #Quebec Premier @francoislegault https://t.co/1sS…',\n",
       " \"RT @smfehir: Yeah, they said it was because she's gay. She was gay when she won too. https://t.co/p9CNk0t5oZ\",\n",
       " \"ICYMI: @zaddington, Crestview Strategy's Western Canada Practice Lead, western Canada, discussing the Alberta elect… https://t.co/XILsn2fL7W\",\n",
       " 'RT @GeNormand: Jason Kenney spoke in French last night to ask for the support of Quebec to build a new oil #pipeline to a Canadian coastlin…',\n",
       " 'RT @why_knot1: Attention @jkenney #UCP #abenergy #ABLeg #abvote #AlbertaElection Time to put past ideas and solutions into the (coal) dust…',\n",
       " 'RT @belle_levesque: What the hell is wrong with people??!!\\n\\n@jkenney was a Cabinet Minister  in the Harper govt when this equalization form…',\n",
       " 'RT @albertacantwait: Trudeau waited until 2 days after the #ABVote to announce the Trans Mountain Expansion will miss another summer constr…',\n",
       " 'RT @mikedesouza: Yesterday, Alberta premier-designate Jason Kenney suggested that Canadian energy is produced \"at the highest environmental…',\n",
       " 'RT @SuitsAndBootsCA: “Who gained the most from #Albertans’ money? #Quebec got the largest chunk, obviously, \\n- with $476 billion dollars in…',\n",
       " 'RT @PremierScottMoe: Less than a year ago, there was only one province standing up against the Trudeau carbon tax: Saskatchewan.\\n\\nAfter las…',\n",
       " 'RT @HoCStaffer: Oui, tabarnak! \\n\\nQuebec prefers to get its oil from progressive, gender-equality supporting places like Saudi Arabia and Al…',\n",
       " \"RT @CBCNews: Jason Kenney plans to take on environmental charities that he says are blocking exports of Alberta's oil. \\nBut those groups ma…\",\n",
       " 'RT @mantonaaron: Back after unsuspiciously being suspended a day before election. \\n\\n4 years of good government, CUT CHILD POVERTY IN HALF,…',\n",
       " 'RT @OtagoGrad: Rex Murphy: \\n\\n\"Alberta \\'will no longer be passive\\' in the face of the calumnies remorselessly hurled at the province’s indus…',\n",
       " 'RT @RJDavies_: @mustangmadd @PremierScottMoe @jkenney Kenney was in Ottawa for quite the time &amp; we didn’t hear a peep about concerns surrou…',\n",
       " 'RT @WBrettWilson: To be blunt - you don’t have a fucking clue.\\n\\nYou grossly exaggerate what @jkenney said or believes.\\n\\nYou clearly have no…',\n",
       " '@MichaelDubreu10 @habsfan4evr @cathmckenna @fordnation @jkenney @AndrewScheer @JustinTrudeau Prove it!!',\n",
       " 'It’s a start. Strength is in numbers!',\n",
       " 'RT @EcoSenseNow: My recent presentation in Alberta, now with some hope as Jason Kenny @jkenney has defeated the socialists and gained a maj…',\n",
       " 'RT @merry123459: And @andrewscheer says there’s no White Nationalists in the Conservative parties. We’re just all imagining it? Really?  So…',\n",
       " 'RT @HelleMax: @belle_levesque @jkenney I fully expect the Carbon Tax to be repealed and for the consequences to be revealed.\\nI fully expect…',\n",
       " 'RT @lamphieryeg: But … how many were left handed? How many had freckles? How many were brunette or blonde or over age 50? How many were Cat…',\n",
       " 'RT @BrownoftheGlobe: Excellent thread of argument. https://t.co/qoea53iFw4',\n",
       " \"ICYMI: @zaddington, Crestview Strategy's Practice Lead, Western Canada, discussing the Alberta election on @CTVNews… https://t.co/cxiNG0PrzE\",\n",
       " '@ktgster @jkenney I, not having trouble seeing why you can’t use your degree If you think NDP tanked the economy. https://t.co/MxmFj7cbt4',\n",
       " 'RT @PremierScottMoe: What do you think Saskatchewan?\\n\\nShould our province join @jkenney and Alberta in holding a referendum on equalization…',\n",
       " 'RT @expmharper: If the 3 slow high schoolers @AndrewScheer, Doug @fordnation &amp; @jkenney are not willing to put a price on carbon...\\n\\n...cou…',\n",
       " 'RT @RJDavies_: I believe there is no positive result when a Premier attempts to pit its province against the rest of Canada. \\n\\n@PremierScot…',\n",
       " \"RT @ScottPresler: I HAVE GIGANTIC NEWS: \\n\\nIn Alberta, Canada, Jason Kenney's United Conservative Party has won a majority, \\n\\nunseating Rach…\",\n",
       " '@JamieHannigan_ @jkenney @jjhorgan @AndrewScheer @LarryMillerMP @lraitt @cathmckenna @MarcGarneau @Wilkinson4BC… https://t.co/IOiRNoCGLf',\n",
       " '@PremierScottMoe @jkenney YES!  Definitely!',\n",
       " \"RT @mustangmadd: @RJDavies_ @PremierScottMoe @jkenney Not to mention hasn't Sask traditionally had a net benefit from equalization . And ho…\",\n",
       " '@WBrettWilson @albertaNDP You had better speak with @joececiyyc , @RachelNotley .\\nThere might be some of your own m… https://t.co/srbgX0YafO',\n",
       " \"RT @SheilaGunnReid: She was awful. That's what. https://t.co/n28d6cPll2\",\n",
       " 'RT @lamphieryeg: But … how many were left handed? How many had freckles? How many were brunette or blonde or over age 50? How many were Cat…',\n",
       " 'RT @WBrettWilson: To be blunt - you don’t have a fucking clue.\\n\\nYou grossly exaggerate what @jkenney said or believes.\\n\\nYou clearly have no…',\n",
       " \"RT @trevortombe: Tristin Hopper: How environmentalists killed Rachel Notley's government https://t.co/539mBGEODX\",\n",
       " 'RT @lamphieryeg: But … how many were left handed? How many had freckles? How many were brunette or blonde or over age 50? How many were Cat…',\n",
       " 'RT @sordo44: Educating people should be the PRIMARY role of the press, but at CBC this has long been ignored for sensationalism. https://t.…',\n",
       " 'RT @gilmcgowan: Ahhhhhhhh! As we said during the campaign, the oil industry itself supports a carbon tax and thinks Kenney’s climate denial…',\n",
       " '@katebirl @jkenney Some homophobes are closeted homosexuals. \\n\\nJason Kenney is a homophobe, therefore...\\n\\nJason Ken… https://t.co/qVdSa1PtRb',\n",
       " 'RT @ArvinJoaquin: #DEVELOPING: A group of Alberta students are planning a province-wide school walkout to protest the newly-elected UCP gov…',\n",
       " 'Yes, yes, yes!!',\n",
       " '@NewyRob @moneyaftergrad @Alberta_UCP @jkenney No one is arguing against jobs. We love jobs! We want jobs that are… https://t.co/4u5Fdb70hf',\n",
       " 'I have a good friend named Jason Kenney. Poor guy.',\n",
       " '@Jose1Pino @LeonardRoxon @PremierScottMoe @jkenney A referendum demonstrates that the people of the province will s… https://t.co/6ClMnotLKZ',\n",
       " 'RT @JScrounge: A comprehensive list of what the UCP is bringing to the table. https://t.co/vQtDvxHxZL',\n",
       " 'RT @belle_levesque: What the hell is wrong with people??!!\\n\\n@jkenney was a Cabinet Minister  in the Harper govt when this equalization form…',\n",
       " 'RT @RJDavies_: I believe there is no positive result when a Premier attempts to pit its province against the rest of Canada. \\n\\n@PremierScot…',\n",
       " '@RJDavies_ @mustangmadd @PremierScottMoe @jkenney Kenney helped come up with the current formula.',\n",
       " 'RT @PremierScottMoe: What do you think Saskatchewan?\\n\\nShould our province join @jkenney and Alberta in holding a referendum on equalization…',\n",
       " 'RT @BCvanguards: #CBC wants Canadians to believe that Kathleen Wynne, Rachel Notley and Christy Clark lost their jobs because of their gend…',\n",
       " 'RT @RJDavies_: @mustangmadd @PremierScottMoe @jkenney Kenney was in Ottawa for quite the time &amp; we didn’t hear a peep about concerns surrou…',\n",
       " 'Thread. Wherein the Premier designate of #abpoli is noted to have lied like a cheap rug. Go figure, cons lying.',\n",
       " 'RT @retail_recruit: Notley was a world class leader. Shocking. Alberta voted for bigotry, anti-science, dominionist drivel, economic and so…',\n",
       " 'RT @222Minutes: It was her boobs!\\n\\nNotley and her big stupid boobs hanging out just wrecking everything, knocking over furniture, and smoth…',\n",
       " 'RT @ElkeBabiuk: \"Next to Ford and Kenney, two substantial figures, Scheer likewise shrinks in stature. And voters should want a national le…',\n",
       " 'RT @danicamclellan: This article is bonkers. They found a professor at a private, liberal arts college in NY to talk about “conspiracy theo…',\n",
       " \"RT @DrJacobsRad: Dear Naheed,\\n\\nYou called the good people of Alberta F-150 driving Neanderthals. You're loyalty lies with the outgoing gove…\",\n",
       " '@DanChallis @KristinRaworth https://t.co/ZOOqNTX0bH\\n\\nActually, Kenney stood up, took every harsh question &amp; answere… https://t.co/poK9EJGncy',\n",
       " 'RT @PremierScottMoe: What do you think Saskatchewan?\\n\\nShould our province join @jkenney and Alberta in holding a referendum on equalization…',\n",
       " 'RT @why_knot1: This thread! #abvote #ABLeg #AlbertaElection #transmountain #abpoli #ymn https://t.co/YoZSuGQDAO',\n",
       " \"RT @Tzeporah: Mic drop. “There's no social acceptability for an additional oil pipeline.”  Quebec doesn't want another pipeline, François L…\",\n",
       " 'RT @AlbertaGrl: Um @globalnews - @RachelNotley’s defeat had NOTHING to do with her gender and everything to do with her economically regres…',\n",
       " '@LynneMc02407897 @PremierScottMoe @MMandryk @jkenney @stephenharper An equalization formula Mr. Harper convinced Mr… https://t.co/3CwvY9QQkk',\n",
       " 'RT @Ross_McMillan: Any attempt by @jkenney to undermine the work of legitimate and law abiding Canadian charities and Indigenous communitie…',\n",
       " '@TorontoStar @GillianSteward And what’s your problem? Those 100K incomes fund a ton of social programs in our provi… https://t.co/XNSBuQjTuW',\n",
       " \"RT @SheilaGunnReid: She was awful. That's what. https://t.co/n28d6cPll2\",\n",
       " 'RT @patriciaannmcd2: @RJDavies_ @mustangmadd @PremierScottMoe @jkenney Kenney helped come up with the current formula.',\n",
       " 'RT @PremierScottMoe: What do you think Saskatchewan?\\n\\nShould our province join @jkenney and Alberta in holding a referendum on equalization…',\n",
       " 'RT @lamphieryeg: But … how many were left handed? How many had freckles? How many were brunette or blonde or over age 50? How many were Cat…',\n",
       " '@PremierScottMoe @jkenney I would like to see that..',\n",
       " \"@patriciaannmcd2 @RJDavies_ @PremierScottMoe @jkenney Ya that's my recollection\",\n",
       " 'RT @Morgo_82: I just went to Jason Kenney’s Wikipedia page and this is what I found. 😂😂😂\\n\\n*No, that wasn’t me https://t.co/pKwpCZCr3W',\n",
       " '@yknot05 @PremierScottMoe @jkenney No, but perhaps the federal tax rate should be lower for earners in provinces th… https://t.co/LS0wVJ6VPB',\n",
       " 'RT @SuitsAndBootsCA: “Who gained the most from #Albertans’ money? #Quebec got the largest chunk, obviously, \\n- with $476 billion dollars in…',\n",
       " 'RT @WBrettWilson: Hey @RachelNotley - lots on your plate - but before you leave today - could you give notice to #EdWhittingham from @Pembi…',\n",
       " \"Absolutely spot on.  Tristin Hopper: How environmentalists killed Rachel Notley's government https://t.co/4qwZhaj0yc via @nationalpost\",\n",
       " 'RT @albertacantwait: Trudeau waited until 2 days after the #ABVote to announce the Trans Mountain Expansion will miss another summer constr…',\n",
       " '@GNadeauDubois @jkenney Silly me...\\n\\nI forgot to include the prostitutes and cocaine.',\n",
       " 'RT @expmharper: If the 3 slow high schoolers @AndrewScheer, Doug @fordnation &amp; @jkenney are not willing to put a price on carbon...\\n\\n...cou…',\n",
       " '@cgyyycalbpolit1 @RachelNotley @jkenney @HillaryClinton @realDonaldTrump You bet: https://t.co/owJrmQKlrs',\n",
       " 'RT @ezralevant: This is a first test of Jason Kenney\\'s seriousness.\\n\\n\"Students to walk out\" is a lie. Students don\\'t walk out. Teachers uni…']"
      ]
     },
     "execution_count": 11,
     "metadata": {},
     "output_type": "execute_result"
    }
   ],
   "source": [
    "english_text"
   ]
  },
  {
   "cell_type": "code",
   "execution_count": 12,
   "metadata": {},
   "outputs": [
    {
     "data": {
      "text/plain": [
       "(47, 9, 0)"
      ]
     },
     "execution_count": 12,
     "metadata": {},
     "output_type": "execute_result"
    }
   ],
   "source": [
    "(Jason_Kenney, Rachel_Notley, Stephen_Mandel)"
   ]
  }
 ],
 "metadata": {
  "kernelspec": {
   "display_name": "Python 3",
   "language": "python",
   "name": "python3"
  },
  "language_info": {
   "codemirror_mode": {
    "name": "ipython",
    "version": 3
   },
   "file_extension": ".py",
   "mimetype": "text/x-python",
   "name": "python",
   "nbconvert_exporter": "python",
   "pygments_lexer": "ipython3",
   "version": "3.6.7"
  }
 },
 "nbformat": 4,
 "nbformat_minor": 2
}
